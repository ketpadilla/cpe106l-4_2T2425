{
  "nbformat": 4,
  "nbformat_minor": 0,
  "metadata": {
    "colab": {
      "provenance": []
    },
    "kernelspec": {
      "name": "python3",
      "display_name": "Python 3"
    },
    "language_info": {
      "name": "python"
    }
  },
  "cells": [
    {
      "cell_type": "markdown",
      "source": [
        "# Python Classes\n",
        "\n",
        "A class in Python is a user-defined template for creating objects. It bundles data and functions together, making it easier to manage and use them. When we create a new class, we define a new type of object. We can then create multiple instances of this object type.\n",
        "\n",
        "Classes are created using class keyword. Attributes are variables defined inside the class and represent the properties of the class. Attributes can be accessed using the dot . operator (e.g., MyClass.my_attribute)."
      ],
      "metadata": {
        "id": "xMQp_t-4l_ar"
      }
    },
    {
      "cell_type": "code",
      "execution_count": null,
      "metadata": {
        "id": "3C269XGoqNvP"
      },
      "outputs": [],
      "source": [
        "# define a class\n",
        "class Dog:\n",
        "    sound = \"bark\"  # class attribute\n",
        "\n",
        "# name = \"jon\"\n",
        "# SPEED_OF_LIGHT = 3.6"
      ]
    },
    {
      "cell_type": "code",
      "source": [
        "print(Dog)"
      ],
      "metadata": {
        "colab": {
          "base_uri": "https://localhost:8080/"
        },
        "id": "r5axiOdH4QWu",
        "outputId": "1b0482c5-bdb1-46fb-de68-47f071a8ab3e"
      },
      "execution_count": null,
      "outputs": [
        {
          "output_type": "stream",
          "name": "stdout",
          "text": [
            "<class '__main__.Dog'>\n"
          ]
        }
      ]
    },
    {
      "cell_type": "markdown",
      "source": [
        "# Create Object\n",
        "An Object is an instance of a Class. It represents a specific implementation of the class and holds its own data.\n",
        "\n",
        "Now, let’s create an object from Dog class."
      ],
      "metadata": {
        "id": "J7_setfEmPvD"
      }
    },
    {
      "cell_type": "code",
      "source": [
        "class Dog:\n",
        "    sound = \"bark\"\n",
        "    action = \"bite\"\n",
        "\n",
        "# Create an object from the class\n",
        "dog1 = Dog()\n",
        "dog2 = Dog()\n",
        "\n",
        "# Access the class attribute\n",
        "print(dog1.sound)\n",
        "print(dog2.action)"
      ],
      "metadata": {
        "id": "5kC1BeLwucRu",
        "colab": {
          "base_uri": "https://localhost:8080/"
        },
        "outputId": "b71e0959-fcd1-47c0-a7a4-b4c2592b79e5"
      },
      "execution_count": null,
      "outputs": [
        {
          "output_type": "stream",
          "name": "stdout",
          "text": [
            "bark\n",
            "bite\n"
          ]
        }
      ]
    },
    {
      "cell_type": "code",
      "source": [
        "princess = Dog()\n",
        "print(princess.action)"
      ],
      "metadata": {
        "colab": {
          "base_uri": "https://localhost:8080/"
        },
        "id": "psKLYEEdAF6l",
        "outputId": "5eaaf1da-22b9-4731-8006-c4bcd9b07c0b"
      },
      "execution_count": null,
      "outputs": [
        {
          "output_type": "stream",
          "name": "stdout",
          "text": [
            "bite\n"
          ]
        }
      ]
    },
    {
      "cell_type": "code",
      "source": [
        "print(princess)"
      ],
      "metadata": {
        "colab": {
          "base_uri": "https://localhost:8080/"
        },
        "id": "z-gBsVv__rOv",
        "outputId": "dce1c3c4-6aa6-42ab-8981-f82582627f8a"
      },
      "execution_count": null,
      "outputs": [
        {
          "output_type": "stream",
          "name": "stdout",
          "text": [
            "<__main__.Dog object at 0x7d4bcea9a440>\n"
          ]
        }
      ]
    },
    {
      "cell_type": "code",
      "source": [
        "print(dog2.sound)\n",
        "print(dog2.action)"
      ],
      "metadata": {
        "colab": {
          "base_uri": "https://localhost:8080/"
        },
        "id": "KgFftR-j5Bsa",
        "outputId": "b5274f0a-4717-4fbf-951f-78ad074d875a"
      },
      "execution_count": null,
      "outputs": [
        {
          "output_type": "stream",
          "name": "stdout",
          "text": [
            "bark\n",
            "bite\n"
          ]
        }
      ]
    },
    {
      "cell_type": "markdown",
      "source": [
        "sound attribute is a class attribute. It is shared across all instances of Dog class, so can be directly accessed through instance dog1.\n",
        "\n",
        "## Using `__init__()` Function\n",
        "In Python, class has `__init__()` function. It automatically initializes object attributes when an object is created.\n",
        "\n"
      ],
      "metadata": {
        "id": "7XWwV7FqmfgL"
      }
    },
    {
      "cell_type": "code",
      "source": [
        "class Dog:\n",
        "    species = \"Canine\"  # Class attribute\n",
        "\n",
        "    def __init__(self, name, age): # constructor\n",
        "        self.name = name  # Instance attribute\n",
        "        self.age = age  # Instance attribute\n"
      ],
      "metadata": {
        "id": "CG9qu_jluc6v"
      },
      "execution_count": null,
      "outputs": []
    },
    {
      "cell_type": "markdown",
      "source": [
        "Initiate Object with `__init__`"
      ],
      "metadata": {
        "id": "W9K6XeLZm1po"
      }
    },
    {
      "cell_type": "code",
      "source": [
        "class Dog:\n",
        "    species = \"Canine\"  # Class attribute\n",
        "\n",
        "    def __init__(self, name, age, breed):\n",
        "        self.name = name  # Instance attribute\n",
        "        self.age = age  # Instance attribute\n",
        "        self.breed = breed\n",
        "\n",
        "\n",
        "# Creating an object of the Dog class\n",
        "dog1 = Dog(\"Buddy\", 3, \"Boxer\")\n",
        "\n",
        "print(dog1.name)  # Output: Buddy\n",
        "print(dog1.species)  # Output: Canine\n",
        "print(dog1.breed)"
      ],
      "metadata": {
        "colab": {
          "base_uri": "https://localhost:8080/"
        },
        "id": "_QgdBaL7sSUI",
        "outputId": "6763463d-2564-450e-f80a-e07d459cbb96"
      },
      "execution_count": null,
      "outputs": [
        {
          "output_type": "stream",
          "name": "stdout",
          "text": [
            "Buddy\n",
            "Canine\n",
            "Boxer\n"
          ]
        }
      ]
    },
    {
      "cell_type": "code",
      "source": [
        "dog2 = Dog(\"Ynah\", 1, None)\n",
        "\n",
        "print(dog2.name)\n",
        "print(dog2.species)\n",
        "print(dog2.breed)"
      ],
      "metadata": {
        "colab": {
          "base_uri": "https://localhost:8080/"
        },
        "id": "PaoRZbXPBSlo",
        "outputId": "82b1018b-d5dd-43f7-c5c6-e068abbdef23"
      },
      "execution_count": null,
      "outputs": [
        {
          "output_type": "stream",
          "name": "stdout",
          "text": [
            "Ynah\n",
            "Canine\n",
            "None\n"
          ]
        }
      ]
    },
    {
      "cell_type": "markdown",
      "source": [
        "## Self Parameter\n",
        "self parameter is a reference to the current instance of the class. It allows us to access the attributes and methods of the object."
      ],
      "metadata": {
        "id": "oS4_H_XlnDEJ"
      }
    },
    {
      "cell_type": "code",
      "source": [
        "class Dog:\n",
        "    def __init__(self, name):  # Add __init__ method to initialize name\n",
        "        self.name = name\n",
        "\n",
        "    def bark(self):\n",
        "        print(self.name)\n",
        "\n",
        "dog1 = Dog(\"Buddy\")  # Pass the name when creating the Dog object\n",
        "dog1.bark()"
      ],
      "metadata": {
        "id": "4D0n3MnUtBEG",
        "colab": {
          "base_uri": "https://localhost:8080/"
        },
        "outputId": "e7d594d1-237f-40fd-fbc3-9ca4553b2a6b"
      },
      "execution_count": null,
      "outputs": [
        {
          "output_type": "stream",
          "name": "stdout",
          "text": [
            "Buddy\n"
          ]
        }
      ]
    },
    {
      "cell_type": "markdown",
      "source": [
        "\n",
        "# `__str__` Method\n",
        "`__str__` method in Python allows us to define a custom string representation of an object. By default, when we print an object or convert it to a string using str(), Python uses the default implementation, which returns a string like `<__main__.ClassName object at 0x00000123>`."
      ],
      "metadata": {
        "id": "p_kzKZzRnWIs"
      }
    },
    {
      "cell_type": "code",
      "source": [
        "class Dog:\n",
        "    def __init__(self, name, age):\n",
        "        self.name = name\n",
        "        self.age = age\n",
        "\n",
        "    def __str__(self):\n",
        "        return f\"{self.name} is {self.age} years old.\"  # Correct: Returning a string\n",
        "\n",
        "dog1 = Dog(\"Buddy\", 3)\n",
        "dog2 = Dog(\"Charlie\", 5)\n",
        "\n",
        "print(dog1)\n",
        "print(dog2)"
      ],
      "metadata": {
        "colab": {
          "base_uri": "https://localhost:8080/"
        },
        "id": "w6-CVSjqtGGW",
        "outputId": "13d1cadf-8bf6-41dd-86d6-af6203cc7fbc"
      },
      "execution_count": null,
      "outputs": [
        {
          "output_type": "stream",
          "name": "stdout",
          "text": [
            "3 is Buddy years old.\n",
            "5 is Charlie years old.\n"
          ]
        }
      ]
    },
    {
      "cell_type": "markdown",
      "source": [
        "# Class and Instance Variables in Python\n",
        "In Python, variables defined in a class can be either class variables or instance variables, and understanding the distinction between them is crucial for object-oriented programming.\n",
        "\n",
        "## Class Variables\n",
        "\n",
        "These are the variables that are shared across all instances of a class. It is defined at the class level, outside any methods. All objects of the class share the same value for a class variable unless explicitly overridden in an object.\n",
        "\n",
        "## Instance Variables\n",
        "\n",
        "Variables that are unique to each instance (object) of a class. These are defined within `__init__` method or other instance methods. Each object maintains its own copy of instance variables, independent of other objects."
      ],
      "metadata": {
        "id": "2x8K6GyDnop7"
      }
    },
    {
      "cell_type": "code",
      "source": [
        "class Dog:\n",
        "    # Class variable\n",
        "    species = \"Canine\"\n",
        "\n",
        "    def __init__(self, name, age):\n",
        "        # Instance variables\n",
        "        self.name = name\n",
        "        self.age = age\n",
        "\n",
        "# Create objects\n",
        "dog1 = Dog(\"Buddy\", 3)\n",
        "dog2 = Dog(\"Charlie\", 5)\n",
        "\n",
        "# Access class and instance variables\n",
        "print(dog1.species)  # (Class variable)\n",
        "print(dog1.name)     # (Instance variable)\n",
        "print(dog2.name)     # (Instance variable)\n",
        "\n",
        "# Modify instance variables\n",
        "dog1.name = \"Max\"\n",
        "print(dog1.name)     # (Updated instance variable)\n",
        "\n",
        "# Modify class variable\n",
        "Dog.species = \"Feline\"\n",
        "print(dog1.species)  # (Updated class variable)\n",
        "print(dog2.species)"
      ],
      "metadata": {
        "colab": {
          "base_uri": "https://localhost:8080/"
        },
        "id": "Kur7xsghudgl",
        "outputId": "5508c619-ed7b-4718-bad3-5896c44c1a34"
      },
      "execution_count": null,
      "outputs": [
        {
          "output_type": "stream",
          "name": "stdout",
          "text": [
            "Canine\n",
            "Buddy\n",
            "Charlie\n",
            "Max\n",
            "Feline\n",
            "Feline\n"
          ]
        }
      ]
    },
    {
      "cell_type": "markdown",
      "source": [
        "# What are classes and objects in Python?\n",
        "\n",
        "Classes in Python are blueprints for creating objects. They define the attributes (data) and methods (functions) that objects of the class will have.\n",
        "Objects are instances of classes. They are created from the class blueprint and can have their own unique data while sharing common methods defined in the class.\n",
        "\n",
        "# What is Python class type?\n",
        "\n",
        "In Python, a class type refers to the type of object that a class creates. It defines the structure and behavior of objects instantiated from that class.\n",
        "\n",
        "# Why use classes in Python?\n",
        "\n",
        "Classes in Python provide a way to structure and organize code into reusable components. They facilitate code reusability, modularity, and maintainability by encapsulating data (attributes) and functionality (methods) within objects.\n",
        "\n",
        "# How to define a class in Python?\n",
        "\n",
        "To define a class in Python, use the class keyword followed by the class name and a colon (:). Inside the class block, define attributes and methods.\n",
        "\n",
        "```\n",
        "class MyClass:\n",
        "    def __init__(self, arg1, arg2):\n",
        "        self.arg1 = arg1\n",
        "        self.arg2 = arg2\n",
        "    def some_method(self):\n",
        "        # Method definition\n",
        "        pass\n",
        "```\n",
        "\n",
        "# What is an object in OOP?\n",
        "\n",
        "In Object-Oriented Programming (OOP), an object is a tangible entity that represents a particular instance of a class. It combines data (attributes) and behaviors (methods) specified by the class.\n",
        "\n",
        "# Why do we need classes and objects?\n",
        "\n",
        "Classes and objects provide a way to model real-world entities and abstract concepts in code. They promote code organization, encapsulation (data hiding), inheritance (code reuse), and polymorphism (method overriding), making complex systems easier to manage and extend.\n"
      ],
      "metadata": {
        "id": "n0lSt5shn0M6"
      }
    },
    {
      "cell_type": "markdown",
      "source": [
        "# Inheritance\n",
        "\n",
        "Inheritance is a fundamental concept in object-oriented programming (OOP) that allows a class (called a child or derived class) to inherit attributes and methods from another class (called a parent or base class). This promotes code reuse, modularity, and a hierarchical class structure. In this article, we’ll explore inheritance in Python.\n",
        "\n",
        "## Basic Example of Inheritance\n",
        "\n",
        "Inheritance allows us to define a class that inherits all the methods and properties from another class."
      ],
      "metadata": {
        "id": "1DSW-5bXojsI"
      }
    },
    {
      "cell_type": "code",
      "source": [
        "# Parent class\n",
        "class Animal:\n",
        "    def __init__(self, name):\n",
        "        self.name = name  # Initialize the name attribute\n",
        "\n",
        "    def speak(self):\n",
        "        pass  # Placeholder method to be overridden by child classes\n",
        "\n",
        "# Child class inheriting from Animal\n",
        "class Dog(Animal):\n",
        "    def speak(self):\n",
        "        return f\"{self.name} barks!\"  # Override the speak method\n",
        "class Cat(Animal):\n",
        "    def speak(self):\n",
        "        return f\"{self.name} meows!\"  # Override the speak method\n",
        "\n",
        "# Creating an instance of Dog\n",
        "dog = Dog(\"Buddy\")\n",
        "print(dog.speak())  # Output: Buddy says Woof!\n",
        "\n",
        "cat = Cat(\"Whiskers\")\n",
        "print(cat.speak())"
      ],
      "metadata": {
        "id": "tTnMmT1UoscZ",
        "colab": {
          "base_uri": "https://localhost:8080/"
        },
        "outputId": "5ffc993b-b64b-482e-b2b7-de90e8a9b7bc"
      },
      "execution_count": null,
      "outputs": [
        {
          "output_type": "stream",
          "name": "stdout",
          "text": [
            "Buddy barks!\n",
            "Whiskers meows!\n"
          ]
        }
      ]
    },
    {
      "cell_type": "markdown",
      "source": [
        "# Syntax for Inheritance\n",
        "```\n",
        "class ParentClass:\n",
        "\n",
        "\n",
        "    # Parent class code here\n",
        "\n",
        "\n",
        "    pass\n",
        "\n",
        "\n",
        "class ChildClass(ParentClass):\n",
        "\n",
        "\n",
        "    # Child class code here\n",
        "\n",
        "\n",
        "    pass\n",
        "```\n",
        "\n",
        "# Explanation of Python Inheritance Syntax\n",
        "\n",
        "## Parent Class:\n",
        "This is the base class from which other classes inherit.\n",
        "It contains attributes and methods that the child class can reuse.\n",
        "## Child Class:\n",
        "This is the derived class that inherits from the parent class.\n",
        "The syntax for inheritance is class ChildClass(ParentClass).\n",
        "The child class automatically gets all attributes and methods of the parent class unless overridden.\n",
        "## Creating a Parent Class\n",
        "In object-oriented programming, a parent class (also known as a base class) defines common attributes and methods that can be inherited by other classes. These attributes and methods serve as the foundation for the child classes. By using inheritance, child classes can access and extend the functionality provided by the parent class.\n",
        "\n",
        "Here’s an example where Person is the parent class:"
      ],
      "metadata": {
        "id": "TjqMwy9Po2ej"
      }
    },
    {
      "cell_type": "code",
      "source": [
        "# A Python program to demonstrate inheritance\n",
        "class Person(object):\n",
        "\n",
        "  # Constructor\n",
        "  def __init__(self, name, id):\n",
        "    self.name = name\n",
        "    self.id = id\n",
        "\n",
        "  # To check if this person is an employee\n",
        "  def Display(self):\n",
        "    print(self.name, self.id)\n",
        "\n",
        "\n",
        "# Driver code\n",
        "emp = Person(\"Satyam\", 102) # An Object of Person\n",
        "emp.Display()"
      ],
      "metadata": {
        "id": "oJF-XuU7vLW-",
        "colab": {
          "base_uri": "https://localhost:8080/"
        },
        "outputId": "23cb9808-07b0-4386-ef07-25df0cb21357"
      },
      "execution_count": null,
      "outputs": [
        {
          "output_type": "stream",
          "name": "stdout",
          "text": [
            "Satyam 102\n"
          ]
        }
      ]
    },
    {
      "cell_type": "markdown",
      "source": [
        "# Creating a Child Class\n",
        "A child class (also known as a subclass) is a class that inherits properties and methods from its parent class. The child class can also introduce additional attributes and methods, or even override the ones inherited from the parent.\n",
        "\n",
        "In this case, Emp is the child class that inherits from the Person class:"
      ],
      "metadata": {
        "id": "RdXcYsUYpNxR"
      }
    },
    {
      "cell_type": "code",
      "source": [
        "class Emp(Person):\n",
        "\n",
        "  def Print(self):\n",
        "    print(\"Emp class called\")\n",
        "\n",
        "Emp_details = Emp(\"Mayank\", 103)\n",
        "\n",
        "# calling parent class function\n",
        "Emp_details.Display()\n",
        "\n",
        "# Calling child class function\n",
        "Emp_details.Print()"
      ],
      "metadata": {
        "id": "_yrp_mX6pQK4",
        "colab": {
          "base_uri": "https://localhost:8080/"
        },
        "outputId": "14c5f8ff-687d-4429-9285-a1aee3c6e359"
      },
      "execution_count": null,
      "outputs": [
        {
          "output_type": "stream",
          "name": "stdout",
          "text": [
            "Mayank 103\n",
            "Emp class called\n"
          ]
        }
      ]
    },
    {
      "cell_type": "markdown",
      "source": [
        "\n",
        "# `__init__()` Function\n",
        "`__init__()` function is a constructor method in Python. It initializes the object’s state when the object is created. If the child class does not define its own __init__() method, it will automatically inherit the one from the parent class.\n",
        "\n",
        "In the example above, the __init__() method in the Employee class ensures that both inherited and new attributes are properly initialized."
      ],
      "metadata": {
        "id": "sFHJf3FopaQz"
      }
    },
    {
      "cell_type": "code",
      "source": [
        "# Parent Class: Person\n",
        "class Person:\n",
        "    def __init__(self, name, idnumber):\n",
        "        self.name = name\n",
        "        self.idnumber = idnumber\n",
        "\n",
        "# Child Class: Employee\n",
        "class Employee(Person):\n",
        "    def __init__(self, name, idnumber, salary, post):\n",
        "        super().__init__(name, idnumber)  # Calls Person's __init__()\n",
        "        self.salary = salary\n",
        "        self.post = post"
      ],
      "metadata": {
        "id": "YGLoZpzRvrPH"
      },
      "execution_count": null,
      "outputs": []
    },
    {
      "cell_type": "markdown",
      "source": [
        "# `super()` Function\n",
        "`super()` function is used to call the parent class’s methods. In particular, it is commonly used in the child class’s __init__() method to initialize inherited attributes. This way, the child class can leverage the functionality of the parent class.\n",
        "\n",
        "Example:"
      ],
      "metadata": {
        "id": "yK5KjfLRprDn"
      }
    },
    {
      "cell_type": "code",
      "source": [
        "# Parent Class: Person\n",
        "class Person:\n",
        "    def __init__(self, name, idnumber):\n",
        "        self.name = name\n",
        "        self.idnumber = idnumber\n",
        "\n",
        "    def display(self):\n",
        "        print(self.name)\n",
        "        print(self.idnumber)\n",
        "\n",
        "# Child Class: Employee\n",
        "class Employee(Person):\n",
        "    def __init__(self, name, idnumber, salary, post):\n",
        "        super().__init__(name, idnumber)  # Using super() to call Person's __init__()\n",
        "        self.salary = salary\n",
        "        self.post = post"
      ],
      "metadata": {
        "id": "3xvF2CSDv1bm"
      },
      "execution_count": null,
      "outputs": []
    },
    {
      "cell_type": "markdown",
      "source": [
        "# Add Properties\n",
        "Once inheritance is established, both the parent and child classes can have their own properties. Properties are attributes that belong to a class and are used to store data.\n",
        "\n",
        "Example:"
      ],
      "metadata": {
        "id": "k_QYw5fWqFhw"
      }
    },
    {
      "cell_type": "code",
      "source": [
        "# Parent Class: Person\n",
        "class Person:\n",
        "    def __init__(self, name, idnumber):\n",
        "        self.name = name\n",
        "        self.idnumber = idnumber\n",
        "\n",
        "    def display(self):\n",
        "        print(self.name)\n",
        "        print(self.idnumber)\n",
        "\n",
        "# Child Class: Employee\n",
        "class Employee(Person):\n",
        "    def __init__(self, name, idnumber, salary, post):\n",
        "        super().__init__(name, idnumber)\n",
        "        self.salary = salary\n",
        "        self.post = post"
      ],
      "metadata": {
        "id": "PS6USclxv7jf"
      },
      "execution_count": null,
      "outputs": []
    },
    {
      "cell_type": "markdown",
      "source": [
        "# Types of Python Inheritance\n",
        "- **Single Inheritance:** A child class inherits from one parent class.\n",
        "- **Multiple Inheritance:** A child class inherits from more than one parent class.\n",
        "- **Multilevel Inheritance:** A class is derived from a class which is also derived from another class.\n",
        "- **Hierarchical Inheritance:** Multiple classes inherit from a single parent class.\n",
        "- **Hybrid Inheritance:** A combination of more than one type of inheritance."
      ],
      "metadata": {
        "id": "xsKVpw9-qWuF"
      }
    },
    {
      "cell_type": "code",
      "source": [
        "# child\n",
        "class Child(Parent1, Parent2):\n",
        "    pass"
      ],
      "metadata": {
        "id": "0a5JVXGaAkS5"
      },
      "execution_count": null,
      "outputs": []
    },
    {
      "cell_type": "code",
      "source": [
        "# 1. Single Inheritance\n",
        "class Person:\n",
        "    def __init__(self, name):\n",
        "        self.name = name\n",
        "\n",
        "class Employee(Person):  # Employee inherits from Person\n",
        "    def __init__(self, name, salary):\n",
        "        super().__init__(name)\n",
        "        self.salary = salary\n",
        "\n",
        "# 2. Multiple Inheritance\n",
        "class Job:\n",
        "    def __init__(self, salary):\n",
        "        self.salary = salary\n",
        "\n",
        "class EmployeePersonJob(Employee, Job):  # Inherits from both Employee and Job\n",
        "    def __init__(self, name, salary):\n",
        "        Employee.__init__(self, name, salary)  # Initialize Employee\n",
        "        Job.__init__(self, salary)            # Initialize Job\n",
        "\n",
        "# 3. Multilevel Inheritance\n",
        "class Manager(EmployeePersonJob):  # Inherits from EmployeePersonJob\n",
        "    def __init__(self, name, salary, department):\n",
        "        EmployeePersonJob.__init__(self, name, salary)  # Explicitly initialize EmployeePersonJob\n",
        "        self.department = department\n",
        "\n",
        "# 4. Hierarchical Inheritance\n",
        "class AssistantManager(EmployeePersonJob):  # Inherits from EmployeePersonJob\n",
        "    def __init__(self, name, salary, team_size):\n",
        "        EmployeePersonJob.__init__(self, name, salary)  # Explicitly initialize EmployeePersonJob\n",
        "        self.team_size = team_size\n",
        "\n",
        "# 5. Hybrid Inheritance (Multiple + Multilevel)\n",
        "class SeniorManager(Manager, AssistantManager):  # Inherits from both Manager and AssistantManager\n",
        "    def __init__(self, name, salary, department, team_size):\n",
        "        Manager.__init__(self, name, salary, department)        # Initialize Manager\n",
        "        AssistantManager.__init__(self, name, salary, team_size)  # Initialize AssistantManager\n",
        "\n",
        "# Creating objects to show inheritance\n",
        "\n",
        "# Single Inheritance\n",
        "emp = Employee(\"John\", 40000)\n",
        "print(emp.name, emp.salary)\n",
        "\n",
        "# Multiple Inheritance\n",
        "emp2 = EmployeePersonJob(\"Alice\", 50000)\n",
        "print(emp2.name, emp2.salary)\n",
        "\n",
        "# Multilevel Inheritance\n",
        "mgr = Manager(\"Bob\", 60000, \"HR\")\n",
        "print(mgr.name, mgr.salary, mgr.department)\n",
        "\n",
        "# Hierarchical Inheritance\n",
        "asst_mgr = AssistantManager(\"Charlie\", 45000, 10)\n",
        "print(asst_mgr.name, asst_mgr.salary, asst_mgr.team_size)\n",
        "\n",
        "# Hybrid Inheritance\n",
        "sen_mgr = SeniorManager(\"David\", 70000, \"Finance\", 20)\n",
        "print(sen_mgr.name, sen_mgr.salary, sen_mgr.department, sen_mgr.team_size)"
      ],
      "metadata": {
        "id": "fPXli83EwaH7",
        "colab": {
          "base_uri": "https://localhost:8080/"
        },
        "outputId": "17ee0005-b9ac-462b-a6a0-bf0dfeedd83f"
      },
      "execution_count": null,
      "outputs": [
        {
          "output_type": "stream",
          "name": "stdout",
          "text": [
            "John 40000\n",
            "Alice 50000\n",
            "Bob 60000 HR\n",
            "Charlie 45000 10\n",
            "David 70000 Finance 20\n"
          ]
        }
      ]
    },
    {
      "cell_type": "markdown",
      "source": [
        "1. Single Inheritance: Employee inherits from Person, adding a salary attribute.\n",
        "2. Multiple Inheritance: EmployeePersonJob inherits from both Employee and Job, allowing access to both name and salary.\n",
        "3. Multilevel Inheritance: Manager inherits from EmployeePersonJob, which already includes Employee and Job.\n",
        "4.Hierarchical Inheritance: AssistantManager also inherits from EmployeePersonJob, demonstrating multiple child classes inheriting from the same parent.\n",
        "5. Hybrid Inheritance: SeniorManager inherits from both Manager (multilevel) and AssistantManager (hierarchical), combining two inheritance types."
      ],
      "metadata": {
        "id": "VLUF5Eqdq27y"
      }
    },
    {
      "cell_type": "markdown",
      "source": [
        "# Polymorphism in OOPs\n",
        "In OOP, polymorphism allows methods in different classes to share the same name but perform distinct tasks. This is achieved through inheritance and interface design. Polymorphism complements other OOP principles like inheritance (sharing behavior) and encapsulation (hiding complexity) to create robust and modular applications.\n",
        "\n",
        "Example:"
      ],
      "metadata": {
        "id": "cMmv8psXrRzk"
      }
    },
    {
      "cell_type": "code",
      "source": [
        "class Shape:\n",
        "    def area(self):\n",
        "        return \"Undefined\"\n",
        "\n",
        "class Rectangle(Shape):\n",
        "    def __init__(self, length, width):\n",
        "        self.length = length\n",
        "        self.width = width\n",
        "\n",
        "    def area(self):\n",
        "        return self.length * self.width\n",
        "\n",
        "class Circle(Shape):\n",
        "    def __init__(self, radius):\n",
        "        self.radius = radius\n",
        "\n",
        "    def area(self):\n",
        "        return 3.14 * self.radius ** 2\n",
        "\n",
        "shapes = [Rectangle(2, 3), Circle(5)]\n",
        "for shape in shapes:\n",
        "    print(f\"Area: {shape.area()}\")"
      ],
      "metadata": {
        "id": "4i3MVICkrU0Q",
        "colab": {
          "base_uri": "https://localhost:8080/"
        },
        "outputId": "0325b4e9-4e77-48ac-ac24-8f3160c19e89"
      },
      "execution_count": null,
      "outputs": [
        {
          "output_type": "stream",
          "name": "stdout",
          "text": [
            "Area: 6\n",
            "Area: 78.5\n"
          ]
        }
      ]
    }
  ]
}